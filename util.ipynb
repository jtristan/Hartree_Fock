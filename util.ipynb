{
 "cells": [
  {
   "cell_type": "code",
   "execution_count": 4,
   "id": "4803289d-bd66-4bec-9768-a2bf4da7c53d",
   "metadata": {},
   "outputs": [],
   "source": [
    "from basis_set_exchange import get_basis\n",
    "from ase.io import read\n",
    "from ase import Atoms"
   ]
  },
  {
   "cell_type": "code",
   "execution_count": 11,
   "id": "28c2fae0-8764-4b5b-9627-41d5c4a332f5",
   "metadata": {},
   "outputs": [],
   "source": [
    "d = get_basis('STO-3G', elements=[])"
   ]
  },
  {
   "cell_type": "code",
   "execution_count": 20,
   "id": "506477e6-a63a-4341-88bb-a22857ac3e19",
   "metadata": {},
   "outputs": [
    {
     "data": {
      "text/plain": [
       "{'electron_shells': [{'function_type': 'gto',\n",
       "   'region': '',\n",
       "   'angular_momentum': [0],\n",
       "   'exponents': ['0.3425250914E+01', '0.6239137298E+00', '0.1688554040E+00'],\n",
       "   'coefficients': [['0.1543289673E+00',\n",
       "     '0.5353281423E+00',\n",
       "     '0.4446345422E+00']]}],\n",
       " 'references': [{'reference_description': 'STO-3G Minimal Basis (3 functions/AO)',\n",
       "   'reference_keys': ['hehre1969a']}]}"
      ]
     },
     "execution_count": 20,
     "metadata": {},
     "output_type": "execute_result"
    }
   ],
   "source": [
    "d['elements']['1']"
   ]
  },
  {
   "cell_type": "code",
   "execution_count": null,
   "id": "18589425-7d94-4fe7-9f11-c17ca3439344",
   "metadata": {},
   "outputs": [],
   "source": []
  }
 ],
 "metadata": {
  "kernelspec": {
   "display_name": "Python 3",
   "language": "python",
   "name": "python3"
  },
  "language_info": {
   "codemirror_mode": {
    "name": "ipython",
    "version": 3
   },
   "file_extension": ".py",
   "mimetype": "text/x-python",
   "name": "python",
   "nbconvert_exporter": "python",
   "pygments_lexer": "ipython3",
   "version": "3.9.12"
  }
 },
 "nbformat": 4,
 "nbformat_minor": 5
}
