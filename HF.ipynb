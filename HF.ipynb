{
 "cells": [
  {
   "cell_type": "code",
   "execution_count": 1,
   "id": "2bb83f6e-2d8b-4687-a7eb-a7bb261c35c4",
   "metadata": {},
   "outputs": [],
   "source": [
    "import numpy as np\n",
    "import collections\n",
    "import copy\n",
    "from scipy.special import comb\n",
    "from scipy.special import factorial2\n",
    "from scipy.special import factorial"
   ]
  },
  {
   "cell_type": "code",
   "execution_count": 2,
   "id": "1fe8a2d8-f00d-4001-9ef1-277c89c19dab",
   "metadata": {},
   "outputs": [],
   "source": [
    "def getAngularQuanta(orbitaltype):\n",
    "    if orbitaltype == \"S\":\n",
    "        return 0, 0, 0\n",
    "    if orbitaltype == \"Px\":\n",
    "        return 1, 0, 0\n",
    "    if orbitaltype == \"Py\":\n",
    "        return 0, 1, 0\n",
    "    if orbitaltype == \"Pz\":\n",
    "        return 0, 0, 1\n",
    "    if orbitaltype == \"Dx2\":\n",
    "        return 2, 0, 0\n",
    "    if orbitaltype == \"Dy2\":\n",
    "        return 0, 2, 0\n",
    "    if orbitaltype == \"Dz2\":\n",
    "        return 0, 0, 2\n",
    "    if orbitaltype == \"Dxy\":\n",
    "        return 1, 1, 0\n",
    "    if orbitaltype == \"Dyz\":\n",
    "        return 0, 1, 1\n",
    "    if orbitaltype == \"Dzx\":\n",
    "        return 1, 0, 1"
   ]
  },
  {
   "cell_type": "code",
   "execution_count": 3,
   "id": "8ed99ac4-1b62-4457-9af4-5215e37174ad",
   "metadata": {},
   "outputs": [],
   "source": [
    "def getorbitalType(angular):\n",
    "    if angular == (0,0,0):\n",
    "        return \"S\"\n",
    "    if angular == (1,0,0):\n",
    "        return \"Px\"\n",
    "    if angular == (0,1,0):\n",
    "        return \"Py\"\n",
    "    if angular == (0,0,1):\n",
    "        return \"Pz\"\n",
    "    if angular == (2,0,0):\n",
    "        return \"Dx2\"\n",
    "    if angular == (0,2,0):\n",
    "        return \"Dy2\"\n",
    "    if angular == (0,0,2):\n",
    "        return \"Dz2\"\n",
    "    if angular == (1,1,0):\n",
    "        return \"Dxy\"\n",
    "    if angular == (0,1,1):\n",
    "        return \"Dyz\"\n",
    "    if angular == (1,0,1):\n",
    "        return \"Dzx\""
   ]
  },
  {
   "cell_type": "code",
   "execution_count": 4,
   "id": "643e6232-9930-4362-bdbb-6903aa3a7220",
   "metadata": {},
   "outputs": [],
   "source": [
    "class Gprimitive: #gaussian primitive class for only one variable. The total will be product of gprimitive(x)*gprimitive(y)*gprimitive(z)\n",
    "    def __init__(self, angular, center, exponent):\n",
    "        self.angular = angular\n",
    "        self.center = center\n",
    "        self.exponent = exponent\n",
    "    \n",
    "    def __call__(self, x):\n",
    "        return (x - self.center)**self.angular*np.exp(-self.exponent*(x-self.center)**2)\n",
    "    \n",
    "    def __repr__(self):\n",
    "        return str(self.center)+str(self.angular)+str(self.exponent)"
   ]
  },
  {
   "cell_type": "code",
   "execution_count": 5,
   "id": "d7417668-dc68-4cdd-9bb5-85bcbd57e29d",
   "metadata": {},
   "outputs": [],
   "source": [
    "class Ao(object): #atomic orbital\n",
    "    def __init__(self, center, angular, contract_num):\n",
    "        self.center = center # the center of the atomic orbital\n",
    "        self.exponents = [0 for i in range(contract_num)] #list of gaussian primitive exponents\n",
    "        self.coeffs = [0 for i in range(contract_num)] #list of gaussian primivite coeffs\n",
    "        self.angular = angular #angular momentum could be S, Px, Py, Pz, Dx2, Dy2, Dz2, Dxy, Dyz, Dzx, ... (0,0,0), (1,0,0),(0,1,0)...\n",
    "        \n",
    "    def __repr__(self):\n",
    "        return getorbitalType(self.angular) + str(self.center) + str(self.exponents) + str(self.coeffs)\n",
    "    \n",
    "    def __call__(self, x, y, z):\n",
    "        res = 0\n",
    "        x0, y0, z0 = self.center\n",
    "        l, m, n = self.angular\n",
    "        for i in range(len(self.coeffs)):\n",
    "            exponent = self.exponents[i]\n",
    "            gprimitivex = Gprimitive(l, x0, exponent)\n",
    "            gprimitivey = Gprimitive(m, y0, exponent)\n",
    "            gprimitivez = Gprimitive(n, z0, exponent)\n",
    "            res += self.coeffs[i]*gprimitivex(x)*gprimitivey(y)*gprimitivez(z)\n",
    "        return res"
   ]
  },
  {
   "cell_type": "code",
   "execution_count": 6,
   "id": "2e42cc75-d3e6-4af7-8edf-e71ad6e9d0d4",
   "metadata": {},
   "outputs": [],
   "source": [
    "class Mo(object): #molecular orbital->linear combination of atomic orbitals\n",
    "    def __init__(self, aolist, coeffs):\n",
    "        self.aolist = aolist\n",
    "        self.coeffs = coeffs\n",
    "        \n",
    "    def __repr__(self):\n",
    "        return str(self.coeffs) + repr(self.aolist)\n",
    "    \n",
    "    def __call__(self, x, y, z):\n",
    "        res = 0\n",
    "        for i in range(len(self.aolist)):\n",
    "            ao = aolist[i]\n",
    "            res += self.coeffs[i]*ao(x, y, z)\n",
    "        return res"
   ]
  },
  {
   "cell_type": "code",
   "execution_count": 7,
   "id": "e72be743-24b7-4ca9-a0ce-7a0b2f2a4ab3",
   "metadata": {},
   "outputs": [
    {
     "name": "stdout",
     "output_type": "stream",
     "text": [
      "H\n",
      "S 2\n",
      "5.447178 0.1562849787\n",
      "0.82454724 0.9046908767\n",
      "S 1\n",
      "0.18319158 1.0\n",
      "O\n",
      "S 3\n",
      "322.037 0.05923939339\n",
      "48.4308 0.3514999608\n",
      "10.4206 0.707657921\n",
      "SP 2\n",
      "7.40294 -0.4044535832 0.244586107\n",
      "1.5762 1.221561761 0.8539553735\n",
      "SP 1\n",
      "0.373684 1.0 1.0\n"
     ]
    }
   ],
   "source": [
    "file = open(\"3-21G.dat\")\n",
    "aodict = collections.defaultdict(list)\n",
    "newatomtype = False\n",
    "contract_num = None\n",
    "origin = (0,0,0)\n",
    "orbitalType = None\n",
    "for line in file:\n",
    "    if line.strip() == \"****\":\n",
    "        newatomtype = True\n",
    "        linecount = 0\n",
    "    elif line.strip() != \"****\" and newatomtype == True:\n",
    "        if linecount == 0:\n",
    "            atomtype, _ = line.split()\n",
    "            linecount += 1\n",
    "            print(atomtype)\n",
    "        elif linecount == 1:\n",
    "            orbitalType, contract_num, _ = line.split()\n",
    "            contract_num = int(contract_num)\n",
    "            if orbitalType == \"S\":\n",
    "                aos = Ao(origin, (0,0,0), contract_num)\n",
    "                aodict[atomtype].append(aos)\n",
    "            elif orbitalType == \"P\":\n",
    "                aopx = Ao(origin,(1,0,0), contract_num)\n",
    "                aopy = Ao(origin,(0,1,0), contract_num)\n",
    "                aopz = Ao(origin,(0,0,1), contract_num)\n",
    "                aodict[atomtype].append(aopx)\n",
    "                aodict[atomtype].append(aopy)\n",
    "                aodict[atomtype].append(aopz)\n",
    "            elif orbitalType == \"D\":\n",
    "                aodx2 = Ao(origin,(2,0,0), contract_num)\n",
    "                aody2 = Ao(origin,(0,2,0), contract_num)\n",
    "                aodz2 = Ao(origin,(0,0,2), contract_num)\n",
    "                aodxy = Ao(origin,(1,1,0), contract_num)\n",
    "                aodyz = Ao(origin,(0,1,1), contract_num)\n",
    "                aodzx = Ao(origin,(1,0,1), contract_num)\n",
    "                aodict[atomtype].append(aodx2)\n",
    "                aodict[atomtype].append(aody2)\n",
    "                aodict[atomtype].append(aodz2)\n",
    "                aodict[atomtype].append(aodxy)\n",
    "                aodict[atomtype].append(aodyz)\n",
    "                aodict[atomtype].append(aodzx)\n",
    "            elif orbitalType == \"SP\":\n",
    "                aos = Ao(origin,(0,0,0), contract_num)\n",
    "                aodict[atomtype].append(aos)\n",
    "                aopx = Ao(origin,(1,0,0), contract_num)\n",
    "                aopy = Ao(origin,(0,1,0), contract_num)\n",
    "                aopz = Ao(origin,(0,0,1), contract_num)\n",
    "                aodict[atomtype].append(aopx)\n",
    "                aodict[atomtype].append(aopy)\n",
    "                aodict[atomtype].append(aopz)\n",
    "            linecount += 1\n",
    "            print(orbitalType, contract_num)\n",
    "        elif contract_num and 1 <linecount <= 1 + contract_num:\n",
    "            if orbitalType == \"S\" or orbitalType == \"P\" or orbitalType == \"D\":\n",
    "                exponent, coeff = line.split()\n",
    "                exponent = float(exponent.replace('D', 'E'))\n",
    "                coeff = float(coeff.replace('D', 'E'))\n",
    "                if orbitalType == \"S\":\n",
    "                    aos.exponents[linecount - 2] = exponent\n",
    "                    aos.coeffs[linecount - 2] = coeff\n",
    "                elif orbitalType == \"P\":\n",
    "                    aopx.exponents[linecount - 2] = exponent\n",
    "                    aopy.exponents[linecount - 2] = exponent\n",
    "                    aopz.exponents[linecount - 2] = exponent\n",
    "                    aopx.coeffs[linecount - 2] = coeff\n",
    "                    aopy.coeffs[linecount - 2] = coeff\n",
    "                    aopz.coeffs[linecount - 2] = coeff\n",
    "                elif orbitalType == \"D\":\n",
    "                    aodx2.exponents[linecount - 2] = exponent\n",
    "                    aody2.exponents[linecount - 2] = exponent\n",
    "                    aodz2.exponents[linecount - 2] = exponent\n",
    "                    aodxy.exponents[linecount - 2] = exponent\n",
    "                    aodyz.exponents[linecount - 2] = exponent\n",
    "                    aodzx.exponents[linecount - 2] = exponent\n",
    "                    aodx2.coeffs[linecount - 2] = coeff\n",
    "                    aody2.coeffs[linecount - 2] = coeff\n",
    "                    aodz2.coeffs[linecount - 2] = coeff\n",
    "                    aodxy.coeffs[linecount - 2] = coeff\n",
    "                    aodyz.coeffs[linecount - 2] = coeff\n",
    "                    aodzx.coeffs[linecount - 2] = coeff\n",
    "                print(exponent, coeff)\n",
    "            elif orbitalType == \"SP\":\n",
    "                exponent, coeffs, coeffp = line.split()\n",
    "                exponent = float(exponent.replace('D', 'E'))\n",
    "                coeffs = float(coeffs.replace('D', 'E'))\n",
    "                coeffp = float(coeffp.replace('D', 'E'))\n",
    "                aos.exponents[linecount - 2] = exponent\n",
    "                aos.coeffs[linecount - 2] = coeffs\n",
    "                aopx.exponents[linecount - 2] = exponent\n",
    "                aopy.exponents[linecount - 2] = exponent\n",
    "                aopz.exponents[linecount - 2] = exponent\n",
    "                aopx.coeffs[linecount - 2] = coeffp\n",
    "                aopy.coeffs[linecount - 2] = coeffp\n",
    "                aopz.coeffs[linecount - 2] = coeffp\n",
    "                print(exponent, coeffs, coeffp)\n",
    "            if linecount < 1 + int(contract_num):\n",
    "                linecount += 1\n",
    "            else:\n",
    "                linecount = 1"
   ]
  },
  {
   "cell_type": "code",
   "execution_count": 8,
   "id": "8406475d-45b3-4c86-a5a2-e97b7e0b17f6",
   "metadata": {},
   "outputs": [
    {
     "name": "stdout",
     "output_type": "stream",
     "text": [
      "H\n",
      "O\n"
     ]
    }
   ],
   "source": [
    "for key in aodict:\n",
    "    print(key)"
   ]
  },
  {
   "cell_type": "code",
   "execution_count": 9,
   "id": "e1818ee7-8e02-4532-a399-26b6f0cba898",
   "metadata": {},
   "outputs": [
    {
     "name": "stdout",
     "output_type": "stream",
     "text": [
      "S(0, 0, 0)[5.447178, 0.82454724][0.1562849787, 0.9046908767]\n",
      "S(0, 0, 0)[0.18319158][1.0]\n"
     ]
    }
   ],
   "source": [
    "for x in aodict['H']:\n",
    "    print(x)"
   ]
  },
  {
   "cell_type": "code",
   "execution_count": 10,
   "id": "f893826b-2f9b-4eca-bcb0-7d08669cfa98",
   "metadata": {},
   "outputs": [
    {
     "name": "stdout",
     "output_type": "stream",
     "text": [
      "S(0, 0, 0)[322.037, 48.4308, 10.4206][0.05923939339, 0.3514999608, 0.707657921]\n",
      "S(0, 0, 0)[7.40294, 1.5762][-0.4044535832, 1.221561761]\n",
      "Px(0, 0, 0)[7.40294, 1.5762][0.244586107, 0.8539553735]\n",
      "Py(0, 0, 0)[7.40294, 1.5762][0.244586107, 0.8539553735]\n",
      "Pz(0, 0, 0)[7.40294, 1.5762][0.244586107, 0.8539553735]\n",
      "S(0, 0, 0)[0.373684][1.0]\n",
      "Px(0, 0, 0)[0.373684][1.0]\n",
      "Py(0, 0, 0)[0.373684][1.0]\n",
      "Pz(0, 0, 0)[0.373684][1.0]\n"
     ]
    }
   ],
   "source": [
    "for x in aodict['O']:\n",
    "    print(x)"
   ]
  },
  {
   "cell_type": "code",
   "execution_count": 11,
   "id": "ba9df21b-5f63-4ad2-b83d-7a8a92065246",
   "metadata": {},
   "outputs": [],
   "source": [
    "geomfile = open(\"H2O.xyz\")\n",
    "aolist = []\n",
    "atomlist = []\n",
    "for line in geomfile:\n",
    "    atomtype, x, y, z = line.split()\n",
    "    x = float(x)\n",
    "    y = float(y)\n",
    "    z = float(z)\n",
    "    x = x * 1.8897261339213 # from Angstrom to atomic unit\n",
    "    y = y * 1.8897261339213 # from Angstrom to atomic unit\n",
    "    z = z * 1.8897261339213 # ....\n",
    "    atomlist.append((atomtype, (x, y, z)))\n",
    "    if atomtype in aodict:\n",
    "        for ao in aodict[atomtype]:\n",
    "            aonew = copy.copy(ao)\n",
    "            aonew.center = [x,y,z]\n",
    "            aolist.append(aonew)"
   ]
  },
  {
   "cell_type": "code",
   "execution_count": 12,
   "id": "64d23489-6c74-45af-9d6b-a7e72b47b406",
   "metadata": {},
   "outputs": [
    {
     "name": "stdout",
     "output_type": "stream",
     "text": [
      "S[0.0, 0.0, 0.22259084131458995][322.037, 48.4308, 10.4206][0.05923939339, 0.3514999608, 0.707657921]\n",
      "S[0.0, 0.0, 0.22259084131458995][7.40294, 1.5762][-0.4044535832, 1.221561761]\n",
      "Px[0.0, 0.0, 0.22259084131458995][7.40294, 1.5762][0.244586107, 0.8539553735]\n",
      "Py[0.0, 0.0, 0.22259084131458995][7.40294, 1.5762][0.244586107, 0.8539553735]\n",
      "Pz[0.0, 0.0, 0.22259084131458995][7.40294, 1.5762][0.244586107, 0.8539553735]\n",
      "S[0.0, 0.0, 0.22259084131458995][0.373684][1.0]\n",
      "Px[0.0, 0.0, 0.22259084131458995][0.373684][1.0]\n",
      "Py[0.0, 0.0, 0.22259084131458995][0.373684][1.0]\n",
      "Pz[0.0, 0.0, 0.22259084131458995][0.373684][1.0]\n",
      "S[0.0, 1.427593607870846, -0.8903633652583598][5.447178, 0.82454724][0.1562849787, 0.9046908767]\n",
      "S[0.0, 1.427593607870846, -0.8903633652583598][0.18319158][1.0]\n",
      "S[0.0, -1.427593607870846, -0.8903633652583598][5.447178, 0.82454724][0.1562849787, 0.9046908767]\n",
      "S[0.0, -1.427593607870846, -0.8903633652583598][0.18319158][1.0]\n"
     ]
    }
   ],
   "source": [
    "for ao in aolist:\n",
    "    print(ao)"
   ]
  },
  {
   "cell_type": "code",
   "execution_count": 15,
   "id": "21a866b1-8972-4807-91dd-b09fb9a48415",
   "metadata": {},
   "outputs": [],
   "source": [
    "from mpl_toolkits.mplot3d import axes3d\n",
    "import matplotlib.pyplot as plt\n",
    "import numpy as np\n",
    "\n",
    "def plot_implicit(fn, isovalue, bbox=(-2.5,2.5),elev=0, azim=30):\n",
    "    ''' create a plot of an implicit function\n",
    "    fn  ...implicit function (plot where fn==0)\n",
    "    bbox ..the x,y,and z limits of plotted interval'''\n",
    "    xmin, xmax, ymin, ymax, zmin, zmax = bbox*3\n",
    "    fig = plt.figure()\n",
    "    ax = fig.add_subplot(111, projection='3d')\n",
    "    A = np.linspace(xmin, xmax, 100) # resolution of the contour\n",
    "    B = np.linspace(xmin, xmax, 15) # number of slices\n",
    "    A1,A2 = np.meshgrid(A,A) # grid on which the contour is plotted\n",
    "\n",
    "    for z in B: # plot contours in the XY plane\n",
    "        X,Y = A1,A2\n",
    "        Z = fn(X,Y,z) - isovalue\n",
    "        cset = ax.contour(X, Y, Z+z, [z], zdir='z', colors='red')\n",
    "        # [z] defines the only level to plot for this contour for this value of z\n",
    "\n",
    "    for y in B: # plot contours in the XZ plane\n",
    "        X,Z = A1,A2\n",
    "        Y = fn(X,y,Z) - isovalue\n",
    "        cset = ax.contour(X, Y+y, Z, [y], zdir='y', colors='red')\n",
    "\n",
    "    for x in B: # plot contours in the YZ plane\n",
    "        Y,Z = A1,A2\n",
    "        X = fn(x,Y,Z) - isovalue\n",
    "        cset = ax.contour(X+x, Y, Z, [x], zdir='x', colors='red')\n",
    "        \n",
    "## now plot the negative part\n",
    "    for z in B: # plot contours in the XY plane\n",
    "        X,Y = A1,A2\n",
    "        Z = fn(X,Y,z) + isovalue\n",
    "        cset = ax.contour(X, Y, Z+z, [z], zdir='z', colors='blue')\n",
    "        # [z] defines the only level to plot for this contour for this value of z\n",
    "\n",
    "    for y in B: # plot contours in the XZ plane\n",
    "        X,Z = A1,A2\n",
    "        Y = fn(X,y,Z) + isovalue\n",
    "        cset = ax.contour(X, Y+y, Z, [y], zdir='y', colors='blue')\n",
    "\n",
    "    for x in B: # plot contours in the YZ plane\n",
    "        Y,Z = A1,A2\n",
    "        X = fn(x,Y,Z) + isovalue\n",
    "        cset = ax.contour(X+x, Y, Z, [x], zdir='x', colors='blue')\n",
    "\n",
    "    # must set plot limits because the contour will likely extend\n",
    "    # way beyond the displayed level.  Otherwise matplotlib extends the plot limits\n",
    "    # to encompass all values in the contour.\n",
    "    ax.set_zlim3d(zmin,zmax)\n",
    "    ax.set_xlim3d(xmin,xmax)\n",
    "    ax.set_ylim3d(ymin,ymax)\n",
    "    ax.view_init(elev, azim)\n",
    "    plt.show()"
   ]
  },
  {
   "cell_type": "code",
   "execution_count": 21,
   "id": "2a89f43c-6203-4c73-9b6b-6d39f08706cc",
   "metadata": {},
   "outputs": [
    {
     "name": "stderr",
     "output_type": "stream",
     "text": [
      "<ipython-input-15-5deb4145c39d>:19: UserWarning: No contour levels were found within the data range.\n",
      "  cset = ax.contour(X, Y, Z+z, [z], zdir='z', colors='red')\n",
      "<ipython-input-15-5deb4145c39d>:25: UserWarning: No contour levels were found within the data range.\n",
      "  cset = ax.contour(X, Y+y, Z, [y], zdir='y', colors='red')\n",
      "<ipython-input-15-5deb4145c39d>:30: UserWarning: No contour levels were found within the data range.\n",
      "  cset = ax.contour(X+x, Y, Z, [x], zdir='x', colors='red')\n",
      "<ipython-input-15-5deb4145c39d>:36: UserWarning: No contour levels were found within the data range.\n",
      "  cset = ax.contour(X, Y, Z+z, [z], zdir='z', colors='blue')\n",
      "<ipython-input-15-5deb4145c39d>:42: UserWarning: No contour levels were found within the data range.\n",
      "  cset = ax.contour(X, Y+y, Z, [y], zdir='y', colors='blue')\n",
      "<ipython-input-15-5deb4145c39d>:47: UserWarning: No contour levels were found within the data range.\n",
      "  cset = ax.contour(X+x, Y, Z, [x], zdir='x', colors='blue')\n"
     ]
    },
    {
     "data": {
      "image/png": "[encoded data removed]",
      "text/plain": [
       "<Figure size 432x288 with 1 Axes>"
      ]
     },
     "metadata": {
      "needs_background": "light"
     },
     "output_type": "display_data"
    }
   ],
   "source": [
    "plot_implicit(aolist[4], 0.05,[-6,6],0,90) #Pz orbital on Oxygen."
   ]
  },
  {
   "cell_type": "code",
   "execution_count": 22,
   "id": "c56f67cc-c0f2-4aed-b9fd-ae618305014b",
   "metadata": {},
   "outputs": [],
   "source": [
    "def gint(m, center1, exponent1, n, center2, exponent2): #calculate one electron integral of two gaussian primitives\n",
    "    newcenter = (exponent1 * center1 + exponent2 * center2) / (exponent1 + exponent2)\n",
    "    newexponent = exponent1 + exponent2\n",
    "    tempexponent = exponent1 * exponent2 / (exponent1 + exponent2)\n",
    "    e12 = np.exp(-tempexponent*(center1 - center2)**2)\n",
    "    res = 0\n",
    "    for i in range(m + 1):\n",
    "        for j in range(n + 1):\n",
    "            if (i + j) % 2 == 0:\n",
    "                res += (np.sqrt(np.pi/newexponent)*comb(m, i)*comb(n, j)*\n",
    "                        factorial2(i + j - 1)/(2*newexponent)**((i + j)/2)*\n",
    "                        (newcenter - center1)**(m - i)*(newcenter - center2)**(n - j)\n",
    "                       )\n",
    "    res = e12 * res\n",
    "    return res"
   ]
  },
  {
   "cell_type": "code",
   "execution_count": 23,
   "id": "84fb1eb5-ffcc-470c-ae99-6409522b3346",
   "metadata": {},
   "outputs": [],
   "source": [
    "def E(l1, l2, t, center1, center2, exponent1, exponent2):#calculate the gaussian-hermite expansion coefficient using recurence\n",
    "    newcenter = (exponent1 * center1 + exponent2 * center2) / (exponent1 + exponent2)\n",
    "    sumexponent = exponent1 + exponent2\n",
    "    diffcenter = center1 - center2\n",
    "    redexponent = exponent1 * exponent2 / (exponent1 + exponent2)\n",
    "    if t > l1 + l2:\n",
    "        return 0\n",
    "    if l1 < 0 or l2 < 0 or t < 0:\n",
    "        return 0\n",
    "    elif l1 == 0 and l2 == 0 and t == 0:\n",
    "        return np.exp(-redexponent*diffcenter**2)\n",
    "    elif l1 > 0:\n",
    "        return (1/(2*sumexponent)*E(l1-1, l2, t - 1,center1,center2,exponent1,exponent2)\n",
    "                +(newcenter - center1)*E(l1-1,l2,t,center1,center2,exponent1,exponent2)\n",
    "                +(t + 1)*E(l1-1,l2, t+1, center1,center2,exponent1,exponent2))\n",
    "    elif l1 == 0:\n",
    "        return (1/(2*sumexponent)*E(l1, l2-1, t - 1,center1,center2,exponent1,exponent2)\n",
    "                +(newcenter - center2)*E(l1,l2-1,t,center1,center2,exponent1,exponent2)\n",
    "                +(t + 1)*E(l1,l2-1, t+1, center1,center2,exponent1,exponent2))\n",
    "    return 0"
   ]
  },
  {
   "cell_type": "code",
   "execution_count": 24,
   "id": "f136ceed-a2e8-4e46-84a8-6e0a5326a478",
   "metadata": {},
   "outputs": [],
   "source": [
    "def S(m1, m2, center1, center2, exponent1, exponent2): #calculate overlap type integral\n",
    "    return np.sqrt(np.pi/(exponent1 + exponent2))*E(m1, m2, 0, center1, center2, exponent1, exponent2)"
   ]
  },
  {
   "cell_type": "code",
   "execution_count": 25,
   "id": "cdd439f6-f26f-4be3-808b-5144a5a42969",
   "metadata": {},
   "outputs": [],
   "source": [
    "def T(m1, m2, center1, center2, exponent1, exponent2): #calculate kinetic type integral\n",
    "    res = 0\n",
    "    res += -2*exponent2*S(m1, m2 + 2, center1, center2, exponent1, exponent2)\n",
    "    res += exponent2*(2*m2+1)*S(m1, m2, center1, center2, exponent1, exponent2)\n",
    "    res += -1/2*m2*(m2-1)*S(m1, m2 - 2, center1, center2, exponent1, exponent2)\n",
    "    return res"
   ]
  },
  {
   "cell_type": "code",
   "execution_count": 26,
   "id": "3ddcc695-7df8-4abe-bc52-2751ce616d59",
   "metadata": {},
   "outputs": [],
   "source": [
    "def F(n, x): #calculate Boys function value by numerical integration\n",
    "    if x < 1e-7:\n",
    "        return 1/(2*n + 1)\n",
    "    if n == 20:\n",
    "        res1 = 1/(2*n + 1)\n",
    "        #if x < 1e-7:\n",
    "        #    return res1\n",
    "        for k in range(1,11):\n",
    "            res1 += (-x)**k/factorial(k)/(2*n+2*k+1)\n",
    "        res2 = factorial2(2*n-1)/2**(n+1)*np.sqrt(np.pi/x**(2*n+1))\n",
    "        res = min(res1, res2)\n",
    "        return res\n",
    "    return (2*x*F(n+1,x)+np.exp(-x))/(2*n+1)\n"
   ]
  },
  {
   "cell_type": "code",
   "execution_count": 27,
   "id": "bc9add6b-4da4-4bf2-b4c8-b880114670f2",
   "metadata": {},
   "outputs": [],
   "source": [
    "def R(t, u, v, n, p, x, y, z):\n",
    "    if t < 0 or u < 0 or v < 0:\n",
    "        return 0\n",
    "    if t == 0 and u == 0 and v == 0:\n",
    "        return (-2*p)**n*F(n,p*(x**2+y**2+z**2))\n",
    "    if t > 0:\n",
    "        return (t-1)*R(t-2,u,v,n+1,p,x,y,z)+x*R(t-1,u,v,n+1,p,x,y,z)\n",
    "    if u > 0:\n",
    "        return (u-1)*R(t,u-2,v,n+1,p,x,y,z)+y*R(t,u-1,v,n+1,p,x,y,z)\n",
    "    if v > 0:\n",
    "        return (v-1)*R(t,u,v-2,n+1,p,x,y,z)+z*R(t,u,v-1,n+1,p,x,y,z)"
   ]
  },
  {
   "cell_type": "code",
   "execution_count": 28,
   "id": "a2bdd981-8702-4bc8-9e75-89cff66c9f20",
   "metadata": {},
   "outputs": [],
   "source": [
    "def overlap(ao1, ao2): #calculate overlap matrix <psi|phi>\n",
    "    l1, m1, n1 = ao1.angular\n",
    "    l2, m2, n2 = ao2.angular\n",
    "    x1, y1, z1 = ao1.center\n",
    "    x2, y2, z2 = ao2.center\n",
    "    res = 0\n",
    "    for i in range(len(ao1.coeffs)):\n",
    "        for j in range(len(ao2.coeffs)):\n",
    "            exponent1 = ao1.exponents[i]\n",
    "            exponent2 = ao2.exponents[j]\n",
    "            #res += (ao1.coeffs[i]*ao2.coeffs[j]*\n",
    "            #        gint(l1, x1, exponent1, l2, x2, exponent2)*\n",
    "            #        gint(m1, y1, exponent1, m2, y2, exponent2)*\n",
    "            #        gint(n1, z1, exponent1, n2, z2, exponent2))\n",
    "            res += (ao1.coeffs[i]*ao2.coeffs[j]*\n",
    "                    S(l1, l2, x1, x2, exponent1, exponent2)*\n",
    "                    S(m1, m2, y1, y2, exponent1, exponent2)*\n",
    "                    S(n1, n2, z1, z2, exponent1, exponent2))\n",
    "    return res"
   ]
  },
  {
   "cell_type": "code",
   "execution_count": 29,
   "id": "949a6454-7125-4c84-b887-10aa61a60aa3",
   "metadata": {},
   "outputs": [],
   "source": [
    "def kinetic(ao1, ao2): #calculate kinetic integral <psi|-1/2*del^2|phi>\n",
    "    l1, m1, n1 = ao1.angular\n",
    "    l2, m2, n2 = ao2.angular\n",
    "    x1, y1, z1 = ao1.center\n",
    "    x2, y2, z2 = ao2.center\n",
    "    res = 0\n",
    "    for i in range(len(ao1.coeffs)):\n",
    "        for j in range(len(ao2.coeffs)):\n",
    "            exponent1 = ao1.exponents[i]\n",
    "            exponent2 = ao2.exponents[j]\n",
    "            res += (ao1.coeffs[i]*ao2.coeffs[j]*\n",
    "                    (T(l1,l2,x1,x2,exponent1,exponent2)*S(m1,m2,y1,y2,exponent1,exponent2)*S(n1,n2,z1,z2,exponent1,exponent2) +\n",
    "                     S(l1,l2,x1,x2,exponent1,exponent2)*T(m1,m2,y1,y2,exponent1,exponent2)*S(n1,n2,z1,z2,exponent1,exponent2) +\n",
    "                     S(l1,l2,x1,x2,exponent1,exponent2)*S(m1,m2,y1,y2,exponent1,exponent2)*T(n1,n2,z1,z2,exponent1,exponent2))\n",
    "                   )\n",
    "    return res"
   ]
  },
  {
   "cell_type": "code",
   "execution_count": 30,
   "id": "f9e39fde-15f3-428e-b448-04c20b411378",
   "metadata": {},
   "outputs": [],
   "source": [
    "def oneelectron(ao1, centerC, ao2):\n",
    "    l1, m1, n1 = ao1.angular\n",
    "    l2, m2, n2 = ao2.angular\n",
    "    a = l1 + m1 + n1\n",
    "    b = l2 + m2 + n2\n",
    "    c = a + b\n",
    "    x1, y1, z1 = ao1.center\n",
    "    x2, y2, z2 = ao2.center\n",
    "    xc, yc, zc = centerC # coordinate of atom with charge Z\n",
    "    res = 0\n",
    "    for i in range(len(ao1.coeffs)):\n",
    "        for j in range(len(ao2.coeffs)):\n",
    "            exponent1 = ao1.exponents[i]\n",
    "            exponent2 = ao2.exponents[j]\n",
    "            p = exponent1 + exponent2\n",
    "            xp = (exponent1*x1+exponent2*x2)/p\n",
    "            yp = (exponent1*y1+exponent2*y2)/p\n",
    "            zp = (exponent1*z1+exponent2*z2)/p\n",
    "            xpc = xp - xc\n",
    "            ypc = yp - yc\n",
    "            zpc = zp - zc\n",
    "            for t in range(c+1):\n",
    "                for u in range(c+1):\n",
    "                    for v in range(c+1):\n",
    "                        res += (ao1.coeffs[i]*ao2.coeffs[j]*\n",
    "                                2*np.pi/p*E(l1,l2,t,x1,x2,exponent1,exponent2)*\n",
    "                                E(m1,m2,u,y1,y2,exponent1,exponent2)*\n",
    "                                E(n1,n2,v,z1,z2,exponent1,exponent2)*\n",
    "                                R(t,u,v,0,p,xpc,ypc,zpc))\n",
    "    return res"
   ]
  },
  {
   "cell_type": "code",
   "execution_count": 31,
   "id": "d52d6760-4f74-4a90-8dde-bc2927a6079a",
   "metadata": {},
   "outputs": [],
   "source": [
    "def twoelectron(ao1, ao2, ao3, ao4):\n",
    "    res = 0\n",
    "    l1, m1, n1 = ao1.angular\n",
    "    l2, m2, n2 = ao2.angular\n",
    "    l3, m3, n3 = ao3.angular\n",
    "    l4, m4, n4 = ao4.angular\n",
    "    x1, y1, z1 = ao1.center\n",
    "    x2, y2, z2 = ao2.center\n",
    "    x3, y3, z3 = ao3.center\n",
    "    x4, y4, z4 = ao4.center\n",
    "    a = l1 + m1 + n1\n",
    "    b = l2 + m2 + n2\n",
    "    c = l3 + m3 + n3\n",
    "    d = l4 + m4 + n4\n",
    "    for i in range(len(ao1.coeffs)):\n",
    "        for j in range(len(ao2.coeffs)):\n",
    "            for k in range(len(ao3.coeffs)):\n",
    "                for l in range(len(ao4.coeffs)):\n",
    "                    exponent1 = ao1.exponents[i]\n",
    "                    exponent2 = ao2.exponents[j]\n",
    "                    exponent3 = ao3.exponents[k]\n",
    "                    exponent4 = ao4.exponents[l]\n",
    "                    p = (exponent1 + exponent2)\n",
    "                    q = (exponent3 + exponent4)\n",
    "                    alpha = p*q/(p + q)\n",
    "                    xp = (x1*exponent1+x2*exponent2)/p\n",
    "                    yp = (y1*exponent1+y2*exponent2)/p\n",
    "                    zp = (z1*exponent1+z2*exponent2)/p\n",
    "                    xq = (x3*exponent3+x4*exponent4)/q\n",
    "                    yq = (y3*exponent3+y4*exponent4)/q\n",
    "                    zq = (z3*exponent3+z4*exponent4)/q\n",
    "                    xpq = xp - xq\n",
    "                    ypq = yp - yq\n",
    "                    zpq = zp - zq\n",
    "                    for t in range(a + b + 1):\n",
    "                        for u in range(a + b + 1):\n",
    "                            for v in range(a + b + 1):\n",
    "                                for tau in range(c + d + 1):\n",
    "                                    for miu in range(c + d + 1):\n",
    "                                        for phi in range(c + d + 1):\n",
    "                                            res += (ao1.coeffs[i]*ao2.coeffs[j]*ao3.coeffs[k]*ao4.coeffs[l]*\n",
    "                                                    2*np.pi**(5/2)/p/q/np.sqrt(p+q)*\n",
    "                                                    E(l1, l2, t, x1, x2, exponent1, exponent2)*\n",
    "                                                    E(m1, m2, u, y1, y2, exponent1, exponent2)*\n",
    "                                                    E(n1, n2, v, z1, z2, exponent1, exponent2)*\n",
    "                                                    E(l3, l4, tau, x3, x4, exponent3, exponent4)*\n",
    "                                                    E(m3, m4, miu, y3, y4, exponent3, exponent4)*\n",
    "                                                    E(n3, n4, phi, z3, z4, exponent3, exponent4)*\n",
    "                                                    (-1)**(tau + miu + phi)*\n",
    "                                                    R(t+tau, u+miu, v+phi, 0, alpha, xpq, ypq, zpq)\n",
    "                                                    )\n",
    "    return res"
   ]
  },
  {
   "cell_type": "code",
   "execution_count": 32,
   "id": "a32ca092-fdd0-4a8b-9578-7d9bf74e9b2b",
   "metadata": {},
   "outputs": [],
   "source": [
    "def atomtype2Charge(atomtype):\n",
    "    if atomtype == \"O\":\n",
    "        return 8\n",
    "    if atomtype == \"H\":\n",
    "        return 1\n",
    "    if atomtype == \"C\":\n",
    "        return 6\n",
    "    if atomtype == \"N\":\n",
    "        return 7\n",
    "    if atomtype == \"S\":\n",
    "        return 16"
   ]
  },
  {
   "cell_type": "code",
   "execution_count": 33,
   "id": "813189cd-f0eb-4801-8f37-153fbf07cf3f",
   "metadata": {},
   "outputs": [],
   "source": [
    "def coulombicAttraction(ao1, atomlist, ao2):\n",
    "    res = 0\n",
    "    for i in range(len(atomlist)):\n",
    "        atomtype, centerC = atomlist[i]\n",
    "        Z = atomtype2Charge(atomtype)\n",
    "        res += (-Z)*oneelectron(ao1, centerC, ao2)\n",
    "    return res"
   ]
  },
  {
   "cell_type": "code",
   "execution_count": 34,
   "id": "7dd21a13-4e1c-437e-bd33-6b378fb9f057",
   "metadata": {},
   "outputs": [],
   "source": [
    "n = len(aolist)\n",
    "Smatrix = np.zeros((n,n))\n",
    "for i in range(n):\n",
    "    for j in range(n):\n",
    "        Smatrix[i][j] = overlap(aolist[i], aolist[j])"
   ]
  },
  {
   "cell_type": "code",
   "execution_count": 35,
   "id": "649a6b61-a738-47fb-bd08-f34c7476c3be",
   "metadata": {},
   "outputs": [],
   "source": [
    "Tmatrix = np.zeros((n,n))\n",
    "for i in range(n):\n",
    "    for j in range(n):\n",
    "        Tmatrix[i][j] = kinetic(aolist[i], aolist[j])"
   ]
  },
  {
   "cell_type": "code",
   "execution_count": 36,
   "id": "9d9dc098-6385-4694-a2e0-7a04b2d50eca",
   "metadata": {},
   "outputs": [],
   "source": [
    "coulombAttractionMatrix = np.zeros((n,n))\n",
    "for i in range(n):\n",
    "    for j in range(n):\n",
    "        coulombAttractionMatrix[i][j] = coulombicAttraction(aolist[i], atomlist, aolist[j])"
   ]
  },
  {
   "cell_type": "code",
   "execution_count": 37,
   "id": "5d3da449-d585-4886-ab75-45026232a9e4",
   "metadata": {},
   "outputs": [
    {
     "name": "stdout",
     "output_type": "stream",
     "text": [
      "Progress: [####################] 100.0%\n"
     ]
    }
   ],
   "source": [
    "import time, sys\n",
    "from IPython.display import clear_output\n",
    "def update_progress(progress):\n",
    "    bar_length = 20\n",
    "    if isinstance(progress, int):\n",
    "        progress = float(progress)\n",
    "    if not isinstance(progress, float):\n",
    "        progress = 0\n",
    "    if progress < 0:\n",
    "        progress = 0\n",
    "    if progress >= 1:\n",
    "        progress = 1\n",
    "    block = int(round(bar_length * progress))\n",
    "    clear_output(wait = True)\n",
    "    text = \"Progress: [{0}] {1:.1f}%\".format( \"#\" * block + \"-\" * (bar_length - block), progress * 100)\n",
    "    print(text)\n",
    "\n",
    "    \n",
    "coulombRepulsionTensor = np.zeros((n,n,n,n))\n",
    "count = 0\n",
    "for i in range(n):\n",
    "    for j in range(n):\n",
    "        for k in range(n):\n",
    "            for l in range(n):\n",
    "                coulombRepulsionTensor[i][j][k][l] = twoelectron(aolist[i],aolist[j],aolist[k],aolist[l])\n",
    "                count += 1\n",
    "                update_progress(count / n**4)\n",
    "                \n",
    "update_progress(1)"
   ]
  },
  {
   "cell_type": "code",
   "execution_count": 51,
   "id": "116e6def-48b2-482a-89d1-99871be1fd48",
   "metadata": {},
   "outputs": [
    {
     "name": "stdout",
     "output_type": "stream",
     "text": [
      "EHF:-99.14830730031406 prev:-99.14830730031406 delta:-inf\n",
      "[-22.81937248  -6.7033494   -6.51955124  -6.20628655  -6.1301259\n",
      "  -3.72097281  -3.57966511  -3.49537293  -3.40732248  -2.50052364\n",
      "  -0.06747176   0.14861549   0.48529477]\n",
      "EHF:-76.06803305281937 prev:-76.06803305281937 delta:23.080274247494685\n",
      "[-19.78411558  -4.04064901  -3.99756228  -3.7033519   -3.48046874\n",
      "  -1.346541    -0.13534849  -0.0637804    0.0904889    0.24495785\n",
      "   2.61903988   3.19474604   4.7504159 ]\n",
      "EHF:-76.71785785309838 prev:-76.71785785309838 delta:-0.6498248002790064\n",
      "[-1.99415679e+01 -4.09703758e+00 -4.04404705e+00 -3.75010743e+00\n",
      " -3.54513041e+00 -1.35605578e+00 -1.96129314e-01 -1.50665652e-01\n",
      " -2.20404294e-03  1.31117970e-01  2.58880168e+00  3.16276735e+00\n",
      "  4.52419692e+00]\n",
      "EHF:-76.71709470768586 prev:-76.71709470768586 delta:0.0007631454125203163\n",
      "[-1.99396257e+01 -4.09696493e+00 -4.04378256e+00 -3.74973842e+00\n",
      " -3.54464490e+00 -1.35621139e+00 -1.95126009e-01 -1.49837629e-01\n",
      " -1.09377914e-03  1.32708831e-01  2.58849949e+00  3.16236729e+00\n",
      "  4.53073109e+00]\n",
      "EHF:-76.71884390461177 prev:-76.71884390461177 delta:-0.0017491969259140205\n",
      "[-1.99399813e+01 -4.09711547e+00 -4.04390736e+00 -3.74985542e+00\n",
      " -3.54480116e+00 -1.35624289e+00 -1.95338543e-01 -1.49999660e-01\n",
      " -1.28774679e-03  1.32447632e-01  2.58838950e+00  3.16225246e+00\n",
      "  4.53030475e+00]\n",
      "EHF:-76.71892913261377 prev:-76.71892913261377 delta:-8.522800199273206e-05\n",
      "[-1.99399929e+01 -4.09712318e+00 -4.04391402e+00 -3.74986069e+00\n",
      " -3.54480652e+00 -1.35624511e+00 -1.95346291e-01 -1.50006028e-01\n",
      " -1.29379432e-03  1.32439374e-01  2.58838171e+00  3.16224416e+00\n",
      "  4.53030085e+00]\n",
      "EHF:-76.71893899588792 prev:-76.71893899588792 delta:-9.863274158306012e-06\n",
      "[-1.99399945e+01 -4.09712409e+00 -4.04391490e+00 -3.74986139e+00\n",
      " -3.54480714e+00 -1.35624536e+00 -1.95347369e-01 -1.50006942e-01\n",
      " -1.29462753e-03  1.32438179e-01  2.58838079e+00  3.16224319e+00\n",
      "  4.53029946e+00]\n",
      "EHF:-76.71893988062932 prev:-76.71893988062932 delta:-8.847413965895612e-07\n",
      "[-1.99399947e+01 -4.09712417e+00 -4.04391500e+00 -3.74986145e+00\n",
      " -3.54480718e+00 -1.35624539e+00 -1.95347468e-01 -1.50007032e-01\n",
      " -1.29469057e-03  1.32438078e-01  2.58838069e+00  3.16224309e+00\n",
      "  4.53029936e+00]\n",
      "SCF Converged\n"
     ]
    }
   ],
   "source": [
    "from scipy.linalg import eigh\n",
    "nelectrons = 1+1+8 #H H O for H2O\n",
    "norb = nelectrons // 2\n",
    "maxiter = 100\n",
    "C = np.eye(n) #coeffcient matrix\n",
    "#O = C.copy()\n",
    "prev = float('inf')\n",
    "tol = 1e-7\n",
    "for i in range(maxiter):\n",
    "    #start building Fock matrix\n",
    "    JK = np.zeros((n,n))\n",
    "    F = np.zeros((n,n)) \n",
    "    for j in range(n):\n",
    "        for k in range(n):\n",
    "            for l in range(n):\n",
    "                for m in range(n):\n",
    "                    for o in range(norb):\n",
    "                        JK[j][k] += (C[l][o]*C[m][o] * \n",
    "                                    (2*coulombRepulsionTensor[j][k][l][m]-\n",
    "                                     coulombRepulsionTensor[j][m][k][l]\n",
    "                                    ))\n",
    "    F = Tmatrix + coulombAttractionMatrix + JK #add kinetic integral and coulomb attraction integeral\n",
    "    S = Smatrix #overlap matrix\n",
    "    #now solve the FC=SCe (Hartree Fock Roothaan-Hall Equation)\n",
    "    energy, C = eigh(F, S)\n",
    "    EHF = 0\n",
    "    for i in range(norb):\n",
    "        EHF += 2*energy[i] - 1/2*JK[i][i]\n",
    "    if abs(EHF - prev) < tol:\n",
    "        print('SCF Converged')\n",
    "        break\n",
    "    delta = EHF - prev\n",
    "    prev = EHF\n",
    "    print('EHF:'+str(EHF)+\" \"+'prev:'+str(prev)+' '+'delta:'+str(delta))\n",
    "    #print(np.abs(np.sqrt((C**2).sum(axis=0)) - np.sqrt((O**2).sum(axis=0))))\n",
    "    #O = C.copy()\n",
    "    print(energy)"
   ]
  },
  {
   "cell_type": "code",
   "execution_count": 53,
   "id": "d5f081fa-8de2-43fa-89c6-3773ef8d2096",
   "metadata": {},
   "outputs": [],
   "source": [
    "#np.save('coulombRepulsionTensor',coulombRepulsionTensor)"
   ]
  },
  {
   "cell_type": "code",
   "execution_count": 39,
   "id": "8a363ac7-f9e9-4840-96f5-88256eb2956a",
   "metadata": {},
   "outputs": [
    {
     "name": "stderr",
     "output_type": "stream",
     "text": [
      "<ipython-input-15-5deb4145c39d>:19: UserWarning: No contour levels were found within the data range.\n",
      "  cset = ax.contour(X, Y, Z+z, [z], zdir='z', colors='red')\n",
      "<ipython-input-15-5deb4145c39d>:25: UserWarning: No contour levels were found within the data range.\n",
      "  cset = ax.contour(X, Y+y, Z, [y], zdir='y', colors='red')\n",
      "<ipython-input-15-5deb4145c39d>:30: UserWarning: No contour levels were found within the data range.\n",
      "  cset = ax.contour(X+x, Y, Z, [x], zdir='x', colors='red')\n",
      "<ipython-input-15-5deb4145c39d>:36: UserWarning: No contour levels were found within the data range.\n",
      "  cset = ax.contour(X, Y, Z+z, [z], zdir='z', colors='blue')\n",
      "<ipython-input-15-5deb4145c39d>:42: UserWarning: No contour levels were found within the data range.\n",
      "  cset = ax.contour(X, Y+y, Z, [y], zdir='y', colors='blue')\n",
      "<ipython-input-15-5deb4145c39d>:47: UserWarning: No contour levels were found within the data range.\n",
      "  cset = ax.contour(X+x, Y, Z, [x], zdir='x', colors='blue')\n"
     ]
    },
    {
     "data": {
      "image/png": "[encoded data removed]",
      "text/plain": [
       "<Figure size 432x288 with 1 Axes>"
      ]
     },
     "metadata": {
      "needs_background": "light"
     },
     "output_type": "display_data"
    }
   ],
   "source": [
    "molist = []\n",
    "for i in range(n):\n",
    "    coeffs = C[:,i]\n",
    "    newmo = Mo(aolist,coeffs)\n",
    "    molist.append(newmo)\n",
    "plot_implicit(molist[4], 0.01,[-5,5],0,90) #choose HOMO"
   ]
  },
  {
   "cell_type": "code",
   "execution_count": null,
   "id": "40b69970-d1e2-4896-ad85-9d55b4885cd4",
   "metadata": {},
   "outputs": [],
   "source": []
  }
 ],
 "metadata": {
  "kernelspec": {
   "display_name": "Python 3",
   "language": "python",
   "name": "python3"
  },
  "language_info": {
   "codemirror_mode": {
    "name": "ipython",
    "version": 3
   },
   "file_extension": ".py",
   "mimetype": "text/x-python",
   "name": "python",
   "nbconvert_exporter": "python",
   "pygments_lexer": "ipython3",
   "version": "3.9.12"
  }
 },
 "nbformat": 4,
 "nbformat_minor": 5
}
